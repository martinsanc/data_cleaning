{
  "cells": [
    {
      "cell_type": "markdown",
      "metadata": {
        "id": "YtqXi9lkfoOV"
      },
      "source": [
        "# Práctica 2: Limpieza y análisis de datos\n",
        "#### Tipología y ciclo de vida de los datos\n",
        "### Marina Peña, Martín Sanchez"
      ]
    },
    {
      "cell_type": "code",
      "execution_count": 4,
      "metadata": {
        "colab": {
          "base_uri": "https://localhost:8080/"
        },
        "id": "pwIdGmoRKPHw",
        "outputId": "f6c9e62c-c831-4e03-bee6-4cf4f611e7dc"
      },
      "outputs": [
        {
          "output_type": "stream",
          "name": "stdout",
          "text": [
            "Looking in indexes: https://pypi.org/simple, https://us-python.pkg.dev/colab-wheels/public/simple/\n",
            "Requirement already satisfied: rpy2 in /usr/local/lib/python3.7/dist-packages (3.4.5)\n",
            "Requirement already satisfied: cffi>=1.10.0 in /usr/local/lib/python3.7/dist-packages (from rpy2) (1.15.0)\n",
            "Requirement already satisfied: jinja2 in /usr/local/lib/python3.7/dist-packages (from rpy2) (2.11.3)\n",
            "Requirement already satisfied: tzlocal in /usr/local/lib/python3.7/dist-packages (from rpy2) (1.5.1)\n",
            "Requirement already satisfied: pytz in /usr/local/lib/python3.7/dist-packages (from rpy2) (2022.1)\n",
            "Requirement already satisfied: pycparser in /usr/local/lib/python3.7/dist-packages (from cffi>=1.10.0->rpy2) (2.21)\n",
            "Requirement already satisfied: MarkupSafe>=0.23 in /usr/local/lib/python3.7/dist-packages (from jinja2->rpy2) (2.0.1)\n"
          ]
        }
      ],
      "source": [
        "!pip3 install rpy2\n",
        "%reload_ext rpy2.ipython                       "
      ]
    },
    {
      "cell_type": "code",
      "execution_count": 5,
      "metadata": {
        "colab": {
          "base_uri": "https://localhost:8080/"
        },
        "id": "xwCR-47uNLZC",
        "outputId": "1752e974-d14f-415c-f8c2-2ddb4986335f"
      },
      "outputs": [
        {
          "output_type": "stream",
          "name": "stdout",
          "text": [
            "Mounted at /content/drive\n"
          ]
        }
      ],
      "source": [
        "from google.colab import drive\n",
        "drive.mount('/content/drive', force_remount=True)"
      ]
    },
    {
      "cell_type": "code",
      "source": [
        "%%R\n",
        "# librerias\n",
        "install.packages(\"corrplot\")\n",
        "\n",
        "library(dplyr)\n",
        "library(tidyverse) \n",
        "library(ggplot2)\n",
        "library(corrplot)"
      ],
      "metadata": {
        "id": "xlMr37luBMne",
        "colab": {
          "base_uri": "https://localhost:8080/"
        },
        "outputId": "fb10e5c8-0445-4a91-afd3-2fd7283caa00"
      },
      "execution_count": 31,
      "outputs": [
        {
          "output_type": "stream",
          "name": "stderr",
          "text": [
            "R[write to console]: Installing package into ‘/usr/local/lib/R/site-library’\n",
            "(as ‘lib’ is unspecified)\n",
            "\n",
            "R[write to console]: trying URL 'https://cran.rstudio.com/src/contrib/corrplot_0.92.tar.gz'\n",
            "\n",
            "R[write to console]: Content type 'application/x-gzip'\n",
            "R[write to console]:  length 3765850 bytes (3.6 MB)\n",
            "\n",
            "R[write to console]: =\n",
            "R[write to console]: =\n",
            "R[write to console]: =\n",
            "R[write to console]: =\n",
            "R[write to console]: =\n",
            "R[write to console]: =\n",
            "R[write to console]: =\n",
            "R[write to console]: =\n",
            "R[write to console]: =\n",
            "R[write to console]: =\n",
            "R[write to console]: =\n",
            "R[write to console]: =\n",
            "R[write to console]: =\n",
            "R[write to console]: =\n",
            "R[write to console]: =\n",
            "R[write to console]: =\n",
            "R[write to console]: =\n",
            "R[write to console]: =\n",
            "R[write to console]: =\n",
            "R[write to console]: =\n",
            "R[write to console]: =\n",
            "R[write to console]: =\n",
            "R[write to console]: =\n",
            "R[write to console]: =\n",
            "R[write to console]: =\n",
            "R[write to console]: =\n",
            "R[write to console]: =\n",
            "R[write to console]: =\n",
            "R[write to console]: =\n",
            "R[write to console]: =\n",
            "R[write to console]: =\n",
            "R[write to console]: =\n",
            "R[write to console]: =\n",
            "R[write to console]: =\n",
            "R[write to console]: =\n",
            "R[write to console]: =\n",
            "R[write to console]: =\n",
            "R[write to console]: =\n",
            "R[write to console]: =\n",
            "R[write to console]: =\n",
            "R[write to console]: =\n",
            "R[write to console]: =\n",
            "R[write to console]: =\n",
            "R[write to console]: =\n",
            "R[write to console]: =\n",
            "R[write to console]: =\n",
            "R[write to console]: =\n",
            "R[write to console]: =\n",
            "R[write to console]: =\n",
            "R[write to console]: =\n",
            "R[write to console]: \n",
            "\n",
            "R[write to console]: downloaded 3.6 MB\n",
            "\n",
            "\n",
            "R[write to console]: \n",
            "\n",
            "R[write to console]: \n",
            "R[write to console]: The downloaded source packages are in\n",
            "\t‘/tmp/RtmpD4Z8Qi/downloaded_packages’\n",
            "R[write to console]: \n",
            "R[write to console]: \n",
            "\n",
            "R[write to console]: corrplot 0.92 loaded\n",
            "\n"
          ]
        }
      ]
    },
    {
      "cell_type": "markdown",
      "metadata": {
        "id": "7GyvJjBYvGJ6"
      },
      "source": [
        "## 1.Descripción del dataset\n",
        "\n",
        "Se dispone de un dataset que recoge alrededor de 1,5 millones de reseñas de cerveza de BeerAdvocates. BeerAdvocates es una asociación prostigiosa y de referencia para muchos productores de calificación de cervezas. Este juego de datos se encuentra disponible en el siguiente enlace: https://www.kaggle.com/datasets/rdoume/beerreviews\n",
        "\n",
        "Este dataset es jugoso para aquellos amantes cerveceros, de cervezas artesanales que quieren ir mas allá y resolver cuestiones como:\n",
        "\n",
        "+ ¿Es la graduación un factor determinante para que una cerveza sea mejor o peor?\n",
        "\n",
        "+ ¿Cuáles de los factores (aroma, sabor, apariencia, paladar) son más importantes para determinar la calidad general de una cerveza?\n",
        "\n",
        "+ ¿Qué cervecería produce las cervezas más fuertes por porcentaje de bebidas alcohólicas o ABV%?\n",
        "\n",
        "+ ¿Cuales son las mejores cervezas para los usuarios? ¿Y las mejores cervecerías?\n",
        "\n",
        "+ Si normalmente disfruto de una cerveza por su aroma y apariencia, ¿Qué estilo de cerveza debo probar?"
      ]
    },
    {
      "cell_type": "markdown",
      "metadata": {
        "id": "vIx99WjJvlYe"
      },
      "source": [
        "## 2.Integración y selección de los datos\n",
        "\n",
        " Partimos de un único dataset que recopila datos de catas de cervezas como el tiempo de cata, puntuacion obtenida, puntuacion del olor, apariencia, gusto, paladar, el tipo de cerveza, graduacion alcoholica y ID de la cerveza.\n",
        "\n",
        " Nuestro objetivo es limpiar el dataset, normalizarlo si es necesario, y establecer visualizaciones que nos permitan obtener información sobre la relación que existe entre las características de las cervezas y su graduación alcoholica.\n",
        "\n"
      ]
    },
    {
      "cell_type": "code",
      "execution_count": 32,
      "metadata": {
        "id": "bk15HERDGAlq",
        "colab": {
          "base_uri": "https://localhost:8080/"
        },
        "outputId": "0e8fda3f-b9ed-45cc-802e-e571a9eff4bc"
      },
      "outputs": [
        {
          "output_type": "stream",
          "name": "stdout",
          "text": [
            "'data.frame':\t1586614 obs. of  13 variables:\n",
            " $ brewery_id        : int  10325 10325 10325 10325 1075 1075 1075 1075 1075 1075 ...\n",
            " $ brewery_name      : chr  \"Vecchio Birraio\" \"Vecchio Birraio\" \"Vecchio Birraio\" \"Vecchio Birraio\" ...\n",
            " $ review_time       : int  1234817823 1235915097 1235916604 1234725145 1293735206 1325524659 1318991115 1306276018 1290454503 1285632924 ...\n",
            " $ review_overall    : num  1.5 3 3 3 4 3 3.5 3 4 4.5 ...\n",
            " $ review_aroma      : num  2 2.5 2.5 3 4.5 3.5 3.5 2.5 3 3.5 ...\n",
            " $ review_appearance : num  2.5 3 3 3.5 4 3.5 3.5 3.5 3.5 5 ...\n",
            " $ review_profilename: chr  \"stcules\" \"stcules\" \"stcules\" \"stcules\" ...\n",
            " $ beer_style        : chr  \"Hefeweizen\" \"English Strong Ale\" \"Foreign / Export Stout\" \"German Pilsener\" ...\n",
            " $ review_palate     : num  1.5 3 3 2.5 4 3 4 2 3.5 4 ...\n",
            " $ review_taste      : num  1.5 3 3 3 4.5 3.5 4 3.5 4 4 ...\n",
            " $ beer_name         : chr  \"Sausa Weizen\" \"Red Moon\" \"Black Horse Black Beer\" \"Sausa Pils\" ...\n",
            " $ beer_abv          : num  5 6.2 6.5 5 7.7 4.7 4.7 4.7 4.7 4.7 ...\n",
            " $ beer_beerid       : int  47986 48213 48215 47969 64883 52159 52159 52159 52159 52159 ...\n"
          ]
        }
      ],
      "source": [
        "%%R\n",
        "# Cargamos el juego de datos \n",
        "url<-\"/content/drive/MyDrive/Web Scraping/beer_reviews.csv\" \n",
        "data<-read.csv(url)\n",
        "\n",
        "# Visualizamos todos los datos: \n",
        "str(data)"
      ]
    },
    {
      "cell_type": "markdown",
      "metadata": {
        "id": "SPcHW9M_F--c"
      },
      "source": [
        " Tenemos 1586614 resultados pertenencientes a 13 características que son: id y  nombre cervecerías, tiempo de la cata, puntuación total, aroma, apariencia, profilename, estilo, paladar, sabor, nombre cerveza, graduación y id cerveza.\n",
        "\n",
        " Como nuestro objetivo principal es determinar la influencia de las características como aroma, sabor,.. de las cervezas las valizables referentes a los ID no nos son de mucha utilidad para el analisis por lo que optamos a eliminarlas para reducir el número de atributos y quedarnos con un dataset mas preciso para el estudio."
      ]
    },
    {
      "cell_type": "code",
      "execution_count": 33,
      "metadata": {
        "id": "99n3LbE181IO",
        "colab": {
          "base_uri": "https://localhost:8080/"
        },
        "outputId": "4a7f86c6-6878-444a-cc8c-3d43f5c50897"
      },
      "outputs": [
        {
          "output_type": "stream",
          "name": "stdout",
          "text": [
            "             brewery_name review_time review_overall review_aroma\n",
            "1         Vecchio Birraio  1234817823            1.5          2.0\n",
            "2         Vecchio Birraio  1235915097            3.0          2.5\n",
            "3         Vecchio Birraio  1235916604            3.0          2.5\n",
            "4         Vecchio Birraio  1234725145            3.0          3.0\n",
            "5 Caldera Brewing Company  1293735206            4.0          4.5\n",
            "6 Caldera Brewing Company  1325524659            3.0          3.5\n",
            "  review_appearance review_profilename                     beer_style\n",
            "1               2.5            stcules                     Hefeweizen\n",
            "2               3.0            stcules             English Strong Ale\n",
            "3               3.0            stcules         Foreign / Export Stout\n",
            "4               3.5            stcules                German Pilsener\n",
            "5               4.0     johnmichaelsen American Double / Imperial IPA\n",
            "6               3.5            oline73           Herbed / Spiced Beer\n",
            "  review_palate review_taste              beer_name beer_abv\n",
            "1           1.5          1.5           Sausa Weizen      5.0\n",
            "2           3.0          3.0               Red Moon      6.2\n",
            "3           3.0          3.0 Black Horse Black Beer      6.5\n",
            "4           2.5          3.0             Sausa Pils      5.0\n",
            "5           4.0          4.5          Cauldron DIPA      7.7\n",
            "6           3.0          3.5    Caldera Ginger Beer      4.7\n"
          ]
        }
      ],
      "source": [
        "%%R \n",
        "# Eliminamos los atributos 'brewery_id' y 'beer_beerid'\n",
        " borrar= c('brewery_id','beer_beerid') \n",
        " data=data[, !(names(data) %in% borrar)]\n",
        " head(data)"
      ]
    },
    {
      "cell_type": "markdown",
      "source": [
        "### 2.1 Variables categóricas\n",
        "\n",
        "El dataset contiene información sobre el nombre de las cervecerías. Vemos que están registradas 5743."
      ],
      "metadata": {
        "id": "fOZS5JD88oF-"
      }
    },
    {
      "cell_type": "code",
      "source": [
        "%%R\n",
        "n_distinct(data$brewery_name)"
      ],
      "metadata": {
        "id": "Y6qhJC_CBOxj",
        "colab": {
          "base_uri": "https://localhost:8080/"
        },
        "outputId": "dc4b4de9-a22c-4f36-9b6b-20d589be6439"
      },
      "execution_count": 34,
      "outputs": [
        {
          "output_type": "stream",
          "name": "stdout",
          "text": [
            "[1] 5743\n"
          ]
        }
      ]
    },
    {
      "cell_type": "markdown",
      "source": [
        "Fueron 33388 usuarios los que votaron."
      ],
      "metadata": {
        "id": "yjLp-AqUD3Tr"
      }
    },
    {
      "cell_type": "code",
      "source": [
        "%%R\n",
        "n_distinct(data$review_profilename)"
      ],
      "metadata": {
        "id": "emxQBKrBENJA",
        "colab": {
          "base_uri": "https://localhost:8080/"
        },
        "outputId": "971bb33b-0bdb-4d2d-d060-be107196f1e3"
      },
      "execution_count": 35,
      "outputs": [
        {
          "output_type": "stream",
          "name": "stdout",
          "text": [
            "[1] 33388\n"
          ]
        }
      ]
    },
    {
      "cell_type": "markdown",
      "source": [
        "Puesto que el estilo de la cerveza es una categoría se convierte a factor. Se disponen datos de 104 tipos diferentes."
      ],
      "metadata": {
        "id": "S4bKzNnMEhX3"
      }
    },
    {
      "cell_type": "code",
      "source": [
        "%%R\n",
        "data$beer_style <- as.factor(data$beer_style)\n",
        "n_distinct(data$beer_style)"
      ],
      "metadata": {
        "id": "E3tKvnGYEhlA",
        "colab": {
          "base_uri": "https://localhost:8080/"
        },
        "outputId": "db28173d-993b-47d4-e4ce-785eb730780b"
      },
      "execution_count": 36,
      "outputs": [
        {
          "output_type": "stream",
          "name": "stdout",
          "text": [
            "[1] 104\n"
          ]
        }
      ]
    },
    {
      "cell_type": "markdown",
      "source": [
        "Y la cantidad de cervezas diferentes analizadas es de 56857"
      ],
      "metadata": {
        "id": "GiLgBPwZFem7"
      }
    },
    {
      "cell_type": "code",
      "source": [
        "%%R\n",
        "n_distinct(data$beer_name)"
      ],
      "metadata": {
        "id": "kT1Hz8yOFeub",
        "colab": {
          "base_uri": "https://localhost:8080/"
        },
        "outputId": "5d799f56-7aec-4e4a-a10d-fdf01f97bf9c"
      },
      "execution_count": 37,
      "outputs": [
        {
          "output_type": "stream",
          "name": "stdout",
          "text": [
            "[1] 56857\n"
          ]
        }
      ]
    },
    {
      "cell_type": "markdown",
      "metadata": {
        "id": "TN3G6nRlvqcK"
      },
      "source": [
        "## 3.Limpieza de los datos\n",
        "### 3.1 Ceros o elementos vacíos\n",
        "\n",
        "  Vamos a ver si nuestro dataset contiene valores nulos o registros vacíos."
      ]
    },
    {
      "cell_type": "code",
      "execution_count": 38,
      "metadata": {
        "id": "lpQIVh0rGRjI",
        "colab": {
          "base_uri": "https://localhost:8080/"
        },
        "outputId": "ad03ad1b-43ee-4ca9-85e0-3ee5e809731e"
      },
      "outputs": [
        {
          "output_type": "stream",
          "name": "stdout",
          "text": [
            "      brewery_name        review_time     review_overall       review_aroma \n",
            "                 0                  0                  0                  0 \n",
            " review_appearance review_profilename         beer_style      review_palate \n",
            "                 0                  0                  0                  0 \n",
            "      review_taste          beer_name           beer_abv \n",
            "                 0                  0              67785 \n"
          ]
        }
      ],
      "source": [
        "%%R\n",
        "# Visualizamos elementos vacios o Na\n",
        "colSums(is.na(data))"
      ]
    },
    {
      "cell_type": "markdown",
      "metadata": {
        "id": "Prj4Vun-Hi5a"
      },
      "source": [
        "  La única variable que presenta valores vacios es la graduacion alcoholica. Para decidir como tratar estos datos vamos a ver el porcentaje que representan en el conjunto total"
      ]
    },
    {
      "cell_type": "code",
      "execution_count": 39,
      "metadata": {
        "id": "JuVUW6RpHyac",
        "colab": {
          "base_uri": "https://localhost:8080/"
        },
        "outputId": "1b0246f0-5433-41d6-b884-d007d4152e8b"
      },
      "outputs": [
        {
          "output_type": "stream",
          "name": "stdout",
          "text": [
            "          beer_abv       brewery_name        review_time     review_overall \n",
            "        0.04272306         0.00000000         0.00000000         0.00000000 \n",
            "      review_aroma  review_appearance review_profilename         beer_style \n",
            "        0.00000000         0.00000000         0.00000000         0.00000000 \n",
            "     review_palate       review_taste          beer_name \n",
            "        0.00000000         0.00000000         0.00000000 \n"
          ]
        }
      ],
      "source": [
        "%%R\n",
        "sort(colMeans(is.na(data)), decreasing = TRUE)"
      ]
    },
    {
      "cell_type": "markdown",
      "metadata": {
        "id": "PXgz0s30HzJi"
      },
      "source": [
        " Al ser solo un 4,2% y teniendo un número tan elevado de registros, se eliminarán estos valores."
      ]
    },
    {
      "cell_type": "code",
      "execution_count": 40,
      "metadata": {
        "id": "a2tNmEdsIIHO",
        "colab": {
          "base_uri": "https://localhost:8080/"
        },
        "outputId": "7f86a6c5-daf3-4ad1-a21c-c2ed2c4a4468"
      },
      "outputs": [
        {
          "output_type": "stream",
          "name": "stdout",
          "text": [
            "[1] 1518829\n"
          ]
        }
      ],
      "source": [
        "%%R\n",
        " data <- na.omit(data)\n",
        "nrow(data)"
      ]
    },
    {
      "cell_type": "markdown",
      "metadata": {
        "id": "veANecKo7jM-"
      },
      "source": [
        "  Tambien al haber tantos registros vamos a ver la existencia de filas duplicadas y procederemos a su eliminación."
      ]
    },
    {
      "cell_type": "code",
      "execution_count": 41,
      "metadata": {
        "id": "fHFC8FO07q9e",
        "colab": {
          "base_uri": "https://localhost:8080/"
        },
        "outputId": "ceda7281-8105-4e18-b6c5-08eafa362d28"
      },
      "outputs": [
        {
          "output_type": "stream",
          "name": "stdout",
          "text": [
            "Numero filas con duplicados: 1518829 \n",
            "Numero filas sin duplicados: 1518829"
          ]
        }
      ],
      "source": [
        "%%R\n",
        "# Numero filas con duplicados\n",
        "cat('Numero filas con duplicados:', nrow(data), '\\n')\n",
        "# Numero filas sin duplicados\n",
        "cat('Numero filas sin duplicados:', nrow(distinct(data)))"
      ]
    },
    {
      "cell_type": "markdown",
      "source": [
        " Al tener el mismo numero de filas, no existen duplicados en el dataframe"
      ],
      "metadata": {
        "id": "JlkG8GsmCRxb"
      }
    },
    {
      "cell_type": "markdown",
      "metadata": {
        "id": "vMqY_BLbIbc4"
      },
      "source": [
        "### 3.2 Valores extremos\n",
        "  \n",
        "  Antes de ponernos a trabajar hemos visto mediante el comando sapply() que la  variable time es de tipo integrer y corresponde a un timestamp en formato unix, por lo que la convertiremos a numeric para poder trabajar con ella mas adelante.\n",
        "\n",
        "  Además de reescalarla mediante la tecnica del escado decimal para normalizarla con el resto de variables."
      ]
    },
    {
      "cell_type": "code",
      "execution_count": 42,
      "metadata": {
        "id": "HUwaEVAxJOLy",
        "colab": {
          "base_uri": "https://localhost:8080/"
        },
        "outputId": "81e03ad8-18ba-4b6c-8d04-445a6e4b26ed"
      },
      "outputs": [
        {
          "output_type": "stream",
          "name": "stdout",
          "text": [
            "\n",
            "\n",
            "|variables          |clase     |\n",
            "|:------------------|:---------|\n",
            "|brewery_name       |character |\n",
            "|review_time        |integer   |\n",
            "|review_overall     |numeric   |\n",
            "|review_aroma       |numeric   |\n",
            "|review_appearance  |numeric   |\n",
            "|review_profilename |character |\n",
            "|beer_style         |factor    |\n",
            "|review_palate      |numeric   |\n",
            "|review_taste       |numeric   |\n",
            "|beer_name          |character |\n",
            "|beer_abv           |numeric   |\n"
          ]
        }
      ],
      "source": [
        "%%R\n",
        "#Comprobación\n",
        "res = sapply(data,class)\n",
        "knitr::kable(data.frame(variables=names(res),clase=as.vector(res)))"
      ]
    },
    {
      "cell_type": "code",
      "source": [
        "%%R\n",
        "# Convertimos el tiempo a tipo numeric\n",
        "data$review_time = as.numeric(data$review_time)\n",
        "# Reescalamos\n",
        "data$review_time<-data$review_time/10^9\n",
        "str(data)"
      ],
      "metadata": {
        "colab": {
          "base_uri": "https://localhost:8080/"
        },
        "id": "q4MT7IHcGsTi",
        "outputId": "42b833dc-d2a0-4463-e2db-7eead9daedb9"
      },
      "execution_count": 43,
      "outputs": [
        {
          "output_type": "stream",
          "name": "stdout",
          "text": [
            "'data.frame':\t1518829 obs. of  11 variables:\n",
            " $ brewery_name      : chr  \"Vecchio Birraio\" \"Vecchio Birraio\" \"Vecchio Birraio\" \"Vecchio Birraio\" ...\n",
            " $ review_time       : num  1.23 1.24 1.24 1.23 1.29 ...\n",
            " $ review_overall    : num  1.5 3 3 3 4 3 3.5 3 4 4.5 ...\n",
            " $ review_aroma      : num  2 2.5 2.5 3 4.5 3.5 3.5 2.5 3 3.5 ...\n",
            " $ review_appearance : num  2.5 3 3 3.5 4 3.5 3.5 3.5 3.5 5 ...\n",
            " $ review_profilename: chr  \"stcules\" \"stcules\" \"stcules\" \"stcules\" ...\n",
            " $ beer_style        : Factor w/ 104 levels \"Altbier\",\"American Adjunct Lager\",..: 66 52 60 62 10 67 67 67 67 67 ...\n",
            " $ review_palate     : num  1.5 3 3 2.5 4 3 4 2 3.5 4 ...\n",
            " $ review_taste      : num  1.5 3 3 3 4.5 3.5 4 3.5 4 4 ...\n",
            " $ beer_name         : chr  \"Sausa Weizen\" \"Red Moon\" \"Black Horse Black Beer\" \"Sausa Pils\" ...\n",
            " $ beer_abv          : num  5 6.2 6.5 5 7.7 4.7 4.7 4.7 4.7 4.7 ...\n",
            " - attr(*, \"na.action\")= 'omit' Named int [1:67785] 274 431 604 734 799 928 945 961 962 963 ...\n",
            "  ..- attr(*, \"names\")= chr [1:67785] \"274\" \"431\" \"604\" \"734\" ...\n"
          ]
        }
      ]
    },
    {
      "cell_type": "markdown",
      "metadata": {
        "id": "-gc5tTD_JbHE"
      },
      "source": [
        "## 4.Análisis de los datos\n",
        "\n",
        "\n",
        "\n",
        "\n",
        "\n",
        " "
      ]
    },
    {
      "cell_type": "markdown",
      "source": [
        "### 4.1 Selección de los grupos de datos"
      ],
      "metadata": {
        "id": "9M554zmIIF_O"
      }
    },
    {
      "cell_type": "markdown",
      "metadata": {
        "id": "m6_UnHG10uAH"
      },
      "source": [
        "  Para poder obtener conclusiones sobre cómo afectan los parámetros catados sobre la graduación de las cervezas, procedemos a realizar una discretizacion de este atributo graduacion, creando una nueva variable categórica con 5 niveles: Sin alcohol, moderada, media,\n",
        "fuerte o muy fuerte. A la cual llamaremos'rango graduacion'\n",
        "\n",
        " Usaremos el valor de la media, desviación estandar y los resultados de summary del atributo alcohol para establecer los rangos. \n",
        "\n",
        " Así podremos ver cómo dentro de cada nivel las cervezas tienen mejores o peores características."
      ]
    },
    {
      "cell_type": "code",
      "execution_count": 44,
      "metadata": {
        "id": "VJj_r_0w1aOv",
        "colab": {
          "base_uri": "https://localhost:8080/"
        },
        "outputId": "c9b86eeb-95c4-4f3f-cc13-2312d818a8b2"
      },
      "outputs": [
        {
          "output_type": "stream",
          "name": "stdout",
          "text": [
            "[1] 2.322526\n",
            "   Min. 1st Qu.  Median    Mean 3rd Qu.    Max. \n",
            "  0.010   5.200   6.500   7.042   8.500  57.700 \n"
          ]
        }
      ],
      "source": [
        "%%R\n",
        "#Rango mediante la media y desviacion tipica de la variable beer_abv\n",
        "s=sd(data$beer_abv)\n",
        "print(s)\n",
        "print(summary(data$beer_abv))\n",
        "\n",
        "# Intervalo\n",
        "data[\"rango_graduacion\"] <- cut(data$beer_abv, breaks =\n",
        "c(0,3.63,5.9,8.17,10.45,60), labels = c(\"Sin alcohol\", \"Moderada\", \"Media\", \"Fuerte\",\"Muy fuerte\"))"
      ]
    },
    {
      "cell_type": "code",
      "execution_count": 45,
      "metadata": {
        "id": "G1dZnkrD3uYL",
        "colab": {
          "base_uri": "https://localhost:8080/",
          "height": 497
        },
        "outputId": "724333a9-de84-427c-997d-081af022faec"
      },
      "outputs": [
        {
          "output_type": "display_data",
          "data": {
            "image/png": "[encoded data removed]"
          },
          "metadata": {}
        }
      ],
      "source": [
        "%%R\n",
        "plot(data$`rango_graduacion`,main=\"Número de cervezas por\n",
        "graduacion\", xlab=\"Graduacion\", ylab=\"Cantidad\", col = \"ivory\")"
      ]
    },
    {
      "cell_type": "markdown",
      "metadata": {
        "id": "5CMO7bzuFW0q"
      },
      "source": [
        "  Vamos a ver que cantidad de distintas cervezas ofrece cada una de las cervecerías."
      ]
    },
    {
      "cell_type": "code",
      "execution_count": 46,
      "metadata": {
        "id": "sgUTqghaK9hM",
        "colab": {
          "base_uri": "https://localhost:8080/"
        },
        "outputId": "ca500481-20c2-4ecb-a187-46301f4f0123"
      },
      "outputs": [
        {
          "output_type": "stream",
          "name": "stdout",
          "text": [
            "# A tibble: 5,156 × 2\n",
            "   brewery_name                           n\n",
            "   <chr>                              <int>\n",
            " 1 Iron Hill Brewery & Restaurant        79\n",
            " 2 Rock Bottom Restaurant & Brewery      79\n",
            " 3 Goose Island Beer Co.                 66\n",
            " 4 John Harvard's Brewery & Ale House    62\n",
            " 5 Kuhnhenn Brewing Company              60\n",
            " 6 Minneapolis Town Hall Brewery         60\n",
            " 7 Fitger's Brewhouse                    56\n",
            " 8 Church Brew Works                     54\n",
            " 9 Portsmouth Brewery                    54\n",
            "10 Sly Fox Brewing Company               54\n",
            "# … with 5,146 more rows\n"
          ]
        }
      ],
      "source": [
        "%%R\n",
        "data %>% \n",
        "  group_by(brewery_name) %>%\n",
        "  count(beer_style) %>%\n",
        "  tally(sort = TRUE)"
      ]
    },
    {
      "cell_type": "markdown",
      "metadata": {
        "id": "QeKN6M7RkXUG"
      },
      "source": [
        " Observamos que la cervecería que mas tipos de cervezas tiene es Rock Bottom Restaurant & Brewery, por lo que para reducir el dataset crearemos uno nuevo con todas las cervezas pertenecientes a esa cervecería. \n",
        "\n",
        " A este nuevo dataset eliminaremos las variables que no nos van a ser útiles en la determinación de cómo afectan las caracteristicas a la graduación de la cerveza, por lo que brewery_name, review_time y review_profilename serán eliminadas"
      ]
    },
    {
      "cell_type": "code",
      "execution_count": 47,
      "metadata": {
        "id": "-O6FMXZRkldb",
        "colab": {
          "base_uri": "https://localhost:8080/"
        },
        "outputId": "ebd7479f-231e-49f6-a320-5e325b3147ef"
      },
      "outputs": [
        {
          "output_type": "stream",
          "name": "stdout",
          "text": [
            "'data.frame':\t1474 obs. of  9 variables:\n",
            " $ review_overall   : num  4.5 3.5 4 4.5 3 3.5 4 4.5 2 3.5 ...\n",
            " $ review_aroma     : num  4 3.5 4 4.5 4 2.5 4.5 4.5 1.5 2.5 ...\n",
            " $ review_appearance: num  4 3.5 4 4.5 3.5 4 4 3.5 1.5 3.5 ...\n",
            " $ review_palate    : num  4 4 4 4 2.5 3.5 4 4.5 1.5 3 ...\n",
            " $ review_taste     : num  4 4 4 4 3 3.5 4 5 1 3.5 ...\n",
            " $ beer_abv         : num  6.2 6 6.1 6.1 6.1 6.1 6.1 6.1 4.4 5.5 ...\n",
            " $ beer_style       : Factor w/ 104 levels \"Altbier\",\"American Adjunct Lager\",..: 33 18 13 13 13 13 13 13 77 69 ...\n",
            " $ beer_name        : chr  \"Anniversary Ale XII\" \"Spout Run Porter\" \"Double Barrel IPA\" \"Double Barrel IPA\" ...\n",
            " $ rango_graduacion : Factor w/ 5 levels \"Sin alcohol\",..: 3 3 3 3 3 3 3 3 2 2 ...\n"
          ]
        }
      ],
      "source": [
        "%%R\n",
        "#Seleccionamos\n",
        "df_beer = data[data$brewery_name=='Rock Bottom Restaurant & Brewery',c(3:5,7:12)]\n",
        "\n",
        "# Ordenamos las columnas\n",
        "df_beer = df_beer %>% select(review_overall:review_appearance, review_palate:review_taste, beer_abv, beer_style, beer_name, rango_graduacion)\n",
        "str(df_beer)\n"
      ]
    },
    {
      "cell_type": "markdown",
      "metadata": {
        "id": "iVF1xufSnI8v"
      },
      "source": [
        "  Finalmente trabajaremos con un dataframe con 2476 observaciones de 9 variables. Ahora el propósito es realizar diversas pruebas estadísticas;\n",
        "  Empezaremos aplicando correlacion entre variables para ver la influencia que tienen unas con otras.\n",
        "   Mediante técnicas de gregresión simples y múltiples podremos evaluar como afecta el sabor, aroma... a la graduación y a la nota total.\n",
        "  Y aplicar un contraste de hipótesis para ver si la nota total media de las cervezas con mayor graduación es igual a las de menor."
      ]
    },
    {
      "cell_type": "markdown",
      "metadata": {
        "id": "5caVipLjUTcE"
      },
      "source": [
        "### 4.2 Normalidad y homogeneidad de la varianza.\n",
        "\n",
        "Para revisar si las variables pueden ser candidatas a la normalización miramos las graficas de quantile-quantile\n",
        "plot y el histograma"
      ]
    },
    {
      "cell_type": "code",
      "execution_count": 48,
      "metadata": {
        "id": "FC4b6u5EUe1v",
        "colab": {
          "base_uri": "https://localhost:8080/",
          "height": 1000
        },
        "outputId": "850c791a-60cf-43a0-8642-97ff8e1420e7"
      },
      "outputs": [
        {
          "output_type": "display_data",
          "data": {
            "image/png": "[encoded data removed]"
          },
          "metadata": {}
        },
        {
          "output_type": "display_data",
          "data": {
            "image/png": "[encoded data removed]"
          },
          "metadata": {}
        },
        {
          "output_type": "display_data",
          "data": {
            "image/png": "[encoded data removed]"
          },
          "metadata": {}
        }
      ],
      "source": [
        "%%R\n",
        "par(mfrow=c(2,2))\n",
        "for(i in 1:ncol(df_beer)) {\n",
        "    if (is.numeric(df_beer[,i])){\n",
        "        qqnorm(df_beer[,i],main = paste(\"Normal Q-Q Plot for \",colnames(df_beer)[i]))\n",
        "        qqline(df_beer[,i],col=\"red\")\n",
        "        hist(df_beer[,i],\n",
        "             main=paste(\"Histogram for \", colnames(df_beer)[i]),\n",
        "             xlab=colnames(df_beer)[i], freq = FALSE)\n",
        "        }\n",
        "}"
      ]
    },
    {
      "cell_type": "markdown",
      "metadata": {
        "id": "YVE4ymTkWYXZ"
      },
      "source": [
        "  A excepción de la graduación cuyos residuos se alejan demasiado de la línea de quantiles el resto de variables son candidatas a la normalización si es necesario.\n",
        "\n",
        "  Para revisar si las variables siguen una distribución normal aplicaremos el test de Shapiro Wilk en cada variables numérica."
      ]
    },
    {
      "cell_type": "code",
      "execution_count": 49,
      "metadata": {
        "id": "s1bugtzZW3R6",
        "colab": {
          "base_uri": "https://localhost:8080/"
        },
        "outputId": "5162408c-e846-4c7c-e0ac-ad0d7d6466c6"
      },
      "outputs": [
        {
          "output_type": "stream",
          "name": "stdout",
          "text": [
            "\n",
            "\tShapiro-Wilk normality test\n",
            "\n",
            "data:  df_beer$review_overall\n",
            "W = 0.89931, p-value < 2.2e-16\n",
            "\n"
          ]
        }
      ],
      "source": [
        "%%R\n",
        "shapiro.test(df_beer$review_overall)"
      ]
    },
    {
      "cell_type": "code",
      "execution_count": 50,
      "metadata": {
        "id": "tehHJIGPbZ8d",
        "colab": {
          "base_uri": "https://localhost:8080/"
        },
        "outputId": "b7616cc1-af8d-4257-98d5-b4ed9331a7ab"
      },
      "outputs": [
        {
          "output_type": "stream",
          "name": "stdout",
          "text": [
            "\n",
            "\tShapiro-Wilk normality test\n",
            "\n",
            "data:  df_beer$review_aroma\n",
            "W = 0.91436, p-value < 2.2e-16\n",
            "\n"
          ]
        }
      ],
      "source": [
        "%%R\n",
        "shapiro.test(df_beer$review_aroma)"
      ]
    },
    {
      "cell_type": "code",
      "execution_count": 51,
      "metadata": {
        "id": "ZPh93VyJbe-M",
        "colab": {
          "base_uri": "https://localhost:8080/"
        },
        "outputId": "b044d642-e5ca-4065-e5d1-9141587e0728"
      },
      "outputs": [
        {
          "output_type": "stream",
          "name": "stdout",
          "text": [
            "\n",
            "\tShapiro-Wilk normality test\n",
            "\n",
            "data:  df_beer$review_appearance\n",
            "W = 0.86956, p-value < 2.2e-16\n",
            "\n"
          ]
        }
      ],
      "source": [
        "%%R\n",
        "shapiro.test(df_beer$review_appearance)"
      ]
    },
    {
      "cell_type": "code",
      "execution_count": 52,
      "metadata": {
        "id": "BGA9YHMSbhGf",
        "colab": {
          "base_uri": "https://localhost:8080/"
        },
        "outputId": "db1a63bb-7dba-4dce-e101-8d30349ab56a"
      },
      "outputs": [
        {
          "output_type": "stream",
          "name": "stdout",
          "text": [
            "\n",
            "\tShapiro-Wilk normality test\n",
            "\n",
            "data:  df_beer$review_palate\n",
            "W = 0.9027, p-value < 2.2e-16\n",
            "\n"
          ]
        }
      ],
      "source": [
        "%%R\n",
        "shapiro.test(df_beer$review_palate)"
      ]
    },
    {
      "cell_type": "code",
      "execution_count": 53,
      "metadata": {
        "id": "PQOgY5kUbjoy",
        "colab": {
          "base_uri": "https://localhost:8080/"
        },
        "outputId": "9d5cd5e5-3912-4c86-81c3-2269768f302e"
      },
      "outputs": [
        {
          "output_type": "stream",
          "name": "stdout",
          "text": [
            "\n",
            "\tShapiro-Wilk normality test\n",
            "\n",
            "data:  df_beer$review_taste\n",
            "W = 0.89634, p-value < 2.2e-16\n",
            "\n"
          ]
        }
      ],
      "source": [
        "%%R\n",
        "shapiro.test(df_beer$review_taste)"
      ]
    },
    {
      "cell_type": "markdown",
      "metadata": {
        "id": "l88kr3XodAVr"
      },
      "source": [
        "  Comprobamos como ninguna las variables numéricas sigue una distribución normal ya que el test nos devuelve para todas ellas un p_value < 0.05. Por lo que rechazamos la hipotesis nula de normalidad.\n",
        "\n",
        "  Sin embargo que no sea normal no quiere decir que no pueda ser normalizable, ya que segun el teorema del limite central al tener mas de 30 elementos en las observaciones podemos aproximar la función de densidad como una distribución normal de media 0 y desviación estandard 1. En este caso, puesto que ya se encuentra comprendido en una escala común de 1 a 5 no se realizará la normalización."
      ]
    },
    {
      "cell_type": "markdown",
      "metadata": {
        "id": "xxVUmromifgG"
      },
      "source": [
        "### 4.3. Aplicación de pruebas estadísticas\n",
        "\n",
        "  En primer lugar vamos a estudiar la correlación entre las varibales"
      ]
    },
    {
      "cell_type": "code",
      "source": [
        "%%R\n",
        "correlation_matrix=df_beer[,1:6]\n",
        "\n",
        "# Matriz de correlación\n",
        "correlacion<-round(cor(correlation_matrix, method =\"pearson\"), 1)\n",
        "corrplot(correlacion, method=\"number\", type=\"upper\", main= '')"
      ],
      "metadata": {
        "colab": {
          "base_uri": "https://localhost:8080/",
          "height": 497
        },
        "id": "kPB9ZY1gzJYk",
        "outputId": "58238a94-5998-46ee-d93c-632f4c591b6c"
      },
      "execution_count": 54,
      "outputs": [
        {
          "output_type": "display_data",
          "data": {
            "image/png": "[encoded data removed]"
          },
          "metadata": {}
        }
      ]
    },
    {
      "cell_type": "markdown",
      "metadata": {
        "id": "053DnT18yRoH"
      },
      "source": [
        "  Todas presentan entre si una correlación positiva, este resultado es de esperar ya que si una cerveza obtuvo una puntuacion general elevada es porque en el resto de caractarísticas tendria puntuaciones altas. \n",
        "  La matriz de correlación anterior nos muestra como la variable más independiente en relacion con el resto es la apariencia de la cerveza, mientras que la mas correlacionada con el resto en general es el sabor, sobretodo es la mas influyente en la puntuación general.\n",
        "  Si nos fijamos en la fila de graduación vemos como ninguna de las características anteriores esta correlacionada con el grado de alcohol de la cerveza."
      ]
    },
    {
      "cell_type": "markdown",
      "source": [
        "  Vamos a realizar una regresión lineal para ver la influencia de las características sobre la puntuación total y otra sobre la graduación"
      ],
      "metadata": {
        "id": "0dqUabBgKzeN"
      }
    },
    {
      "cell_type": "code",
      "execution_count": 55,
      "metadata": {
        "id": "WzGijxqIuIue",
        "colab": {
          "base_uri": "https://localhost:8080/"
        },
        "outputId": "c8d4c7bc-f718-4372-9ae3-56066cf8ef3e"
      },
      "outputs": [
        {
          "output_type": "stream",
          "name": "stdout",
          "text": [
            "\n",
            "Call:\n",
            "lm(formula = review_overall ~ review_aroma + review_appearance + \n",
            "    review_palate + review_taste, data = df_beer)\n",
            "\n",
            "Residuals:\n",
            "     Min       1Q   Median       3Q      Max \n",
            "-3.07104 -0.21404 -0.00944  0.25031  1.24678 \n",
            "\n",
            "Coefficients:\n",
            "                  Estimate Std. Error t value Pr(>|t|)    \n",
            "(Intercept)        0.46181    0.08602   5.369 9.21e-08 ***\n",
            "review_aroma       0.07788    0.02421   3.218  0.00132 ** \n",
            "review_appearance  0.07129    0.02442   2.920  0.00356 ** \n",
            "review_palate      0.28601    0.02558  11.181  < 2e-16 ***\n",
            "review_taste       0.46712    0.02788  16.755  < 2e-16 ***\n",
            "---\n",
            "Signif. codes:  0 ‘***’ 0.001 ‘**’ 0.01 ‘*’ 0.05 ‘.’ 0.1 ‘ ’ 1\n",
            "\n",
            "Residual standard error: 0.3958 on 1469 degrees of freedom\n",
            "Multiple R-squared:  0.579,\tAdjusted R-squared:  0.5779 \n",
            "F-statistic: 505.1 on 4 and 1469 DF,  p-value: < 2.2e-16\n",
            "\n"
          ]
        }
      ],
      "source": [
        "%%R\n",
        "# Definimos el modelo de regresion lineal multiple para la puntuación general\n",
        "reg_model = lm(review_overall ~ review_aroma + review_appearance + review_palate + review_taste, data = df_beer)\n",
        "summary(reg_model)"
      ]
    },
    {
      "cell_type": "markdown",
      "source": [
        "  Para todas las variables el p_value es inferior a 0.05, esto significa que que el conjunto de variables explicativas contribuyen significativamente en la nota global.\n",
        "\n",
        "   Vemos entre ellas, las mas influyentes son el sabor y el paladar. Si nos fijamos en los valores estimados de la ecuacion. Vemos como dentro de los atributos paladar y sabor, gana sabor ya que este hace incrementar la puntuacion total un 0.46%, mientras que paladar lo hace con un 0.28%.\n",
        "\n",
        "   El valor del estadístico R2= 0.579, cercano a 1, sabemos que los datos se ajustan bien a la regresión."
      ],
      "metadata": {
        "id": "dbD3P5PTV0GO"
      }
    },
    {
      "cell_type": "code",
      "source": [
        "%%R\n",
        "# Definimos el modelo de regresion lineal multiple para la graduacion\n",
        "\n",
        "reg_model2 = lm(beer_abv ~ review_aroma + review_appearance + review_palate + review_taste, data = df_beer)\n",
        "summary(reg_model2)"
      ],
      "metadata": {
        "id": "P4KlkZZ5NzBk",
        "colab": {
          "base_uri": "https://localhost:8080/"
        },
        "outputId": "ad4b8b74-0a0a-47f9-afac-9e0bc09e2eb6"
      },
      "execution_count": 56,
      "outputs": [
        {
          "output_type": "stream",
          "name": "stdout",
          "text": [
            "\n",
            "Call:\n",
            "lm(formula = beer_abv ~ review_aroma + review_appearance + review_palate + \n",
            "    review_taste, data = df_beer)\n",
            "\n",
            "Residuals:\n",
            "    Min      1Q  Median      3Q     Max \n",
            "-3.3781 -1.0228 -0.3662  0.6835  7.3604 \n",
            "\n",
            "Coefficients:\n",
            "                  Estimate Std. Error t value Pr(>|t|)    \n",
            "(Intercept)        2.84428    0.32956   8.630  < 2e-16 ***\n",
            "review_aroma       0.67071    0.09274   7.232 7.61e-13 ***\n",
            "review_appearance  0.17075    0.09355   1.825   0.0682 .  \n",
            "review_palate      0.09075    0.09800   0.926   0.3546    \n",
            "review_taste      -0.02377    0.10681  -0.223   0.8239    \n",
            "---\n",
            "Signif. codes:  0 ‘***’ 0.001 ‘**’ 0.01 ‘*’ 0.05 ‘.’ 0.1 ‘ ’ 1\n",
            "\n",
            "Residual standard error: 1.516 on 1469 degrees of freedom\n",
            "Multiple R-squared:  0.08844,\tAdjusted R-squared:  0.08596 \n",
            "F-statistic: 35.63 on 4 and 1469 DF,  p-value: < 2.2e-16\n",
            "\n"
          ]
        }
      ]
    },
    {
      "cell_type": "markdown",
      "source": [
        "  En cuanto a la graduación por el valor del p_value la única variable significativa es el aroma, sin embargo el estadístico R2 nos devuelve un valor muy muy bajo, solo explica un 4% de la varianza por lo que este modelo no es un buen ajuste para los datos."
      ],
      "metadata": {
        "id": "72XYznPZZi-Z"
      }
    },
    {
      "cell_type": "markdown",
      "source": [
        "De las cervezas anteriores vamos a seleccionar las 6 que mejor aroma y apariencia tienen, para responder a nuestra pregunta de qué estilo de cervezas elegiríamos si esperamos un gran arona y apariencia."
      ],
      "metadata": {
        "id": "R-Y0b073a5lo"
      }
    },
    {
      "cell_type": "code",
      "execution_count": 57,
      "metadata": {
        "id": "HLk-s6kzeGcC",
        "colab": {
          "base_uri": "https://localhost:8080/"
        },
        "outputId": "58dab520-6982-4ed6-9b00-1d849d3cceb3"
      },
      "outputs": [
        {
          "output_type": "stream",
          "name": "stdout",
          "text": [
            "[1] Herbed / Spiced Beer    Rauchbier               American Pale Ale (APA)\n",
            "[4] Russian Imperial Stout  American IPA            American Porter        \n",
            "104 Levels: Altbier American Adjunct Lager ... Witbier\n"
          ]
        }
      ],
      "source": [
        "%%R\n",
        "dd = data[order(c(data$review_aroma, data$review_appearance),decreasing = TRUE),]\n",
        "\n",
        "head(unique(dd$beer_style))\n",
        "  "
      ]
    },
    {
      "cell_type": "markdown",
      "source": [
        "  Hemos visto como la correlación nos indicaba que la graduación y el resto de características de la cerveza eran idependientes, así como con la nota general. Por lo que a priori podemos pensar que como la graduación no importa la nota promedia de las cervezas de alta graduación y baja sería mas o menos igual.\n",
        "  \n",
        "  Para comprobarlo realizaremos un contraste de hipétesis, siendo nuestra pregunta nula:\n",
        "  Ho = La nota promedio de las cervezas suaves (Sin alcohol,Moderado y Medio)  es igual a las de graduación fuertes (Fuertes y Muy fuertes). "
      ],
      "metadata": {
        "id": "A_hTmpJ8nyyY"
      }
    },
    {
      "cell_type": "code",
      "execution_count": 58,
      "metadata": {
        "id": "sSQNkErtFqkR"
      },
      "outputs": [],
      "source": [
        "%%R\n",
        "# Creamos dos variables para ordenar las cervezas por graduacion\n",
        "G0 = df_beer$review_overall[df_beer$rango_graduacion == c('Sin alcohol', 'Media','Moderada')]\n",
        "G4 = df_beer$review_overall[df_beer$rango_graduacion == c('Muy fuerte','Fuerte')]"
      ]
    },
    {
      "cell_type": "code",
      "execution_count": 59,
      "metadata": {
        "id": "N6aqOPTj6slH",
        "colab": {
          "base_uri": "https://localhost:8080/"
        },
        "outputId": "0a98a835-6ca4-4f1c-a6e0-0de81ef3139c"
      },
      "outputs": [
        {
          "output_type": "stream",
          "name": "stdout",
          "text": [
            "\n",
            "\tWelch Two Sample t-test\n",
            "\n",
            "data:  G0 and G4\n",
            "t = -0.23999, df = 104.09, p-value = 0.8108\n",
            "alternative hypothesis: true difference in means is not equal to 0\n",
            "95 percent confidence interval:\n",
            " -0.1846743  0.1448004\n",
            "sample estimates:\n",
            "mean of x mean of y \n",
            " 3.876404  3.896341 \n",
            "\n"
          ]
        }
      ],
      "source": [
        "%%R\n",
        "ttest.varneq=t.test(G0,G4,alternative=\"two.side\",var.equal=FALSE,conf.level=0.95)\n",
        "ttest.varneq"
      ]
    },
    {
      "cell_type": "markdown",
      "source": [
        " Comoprobamos como el p_value es > 0.05 por lo que no rechazamos la hipótesis nula y verificamos que no importa el grado de la cerveza para que obtenga una buena puntuación. No se rechaza Ho.\n",
        " Vamos a comprobarlo con los extremos de la graduación"
      ],
      "metadata": {
        "id": "ZwKqMCw1svK-"
      }
    },
    {
      "cell_type": "code",
      "source": [
        "%%R\n",
        "G0 = df_beer$review_overall[df_beer$rango_graduacion == c('Sin alcohol')]\n",
        "G4 = df_beer$review_overall[df_beer$rango_graduacion == c('Muy fuerte')]\n",
        "\n",
        "ttest.varneq=t.test(G0,G4,alternative=\"two.side\",var.equal=FALSE,conf.level=0.95)\n",
        "ttest.varneq"
      ],
      "metadata": {
        "colab": {
          "base_uri": "https://localhost:8080/"
        },
        "id": "7HDQ7JrQtfN0",
        "outputId": "46572b67-f65e-47d2-9aad-2cfee035a53a"
      },
      "execution_count": 60,
      "outputs": [
        {
          "output_type": "stream",
          "name": "stdout",
          "text": [
            "\n",
            "\tWelch Two Sample t-test\n",
            "\n",
            "data:  G0 and G4\n",
            "t = -0.73019, df = 26.052, p-value = 0.4718\n",
            "alternative hypothesis: true difference in means is not equal to 0\n",
            "95 percent confidence interval:\n",
            " -0.5828159  0.2772603\n",
            "sample estimates:\n",
            "mean of x mean of y \n",
            " 3.750000  3.902778 \n",
            "\n"
          ]
        }
      ]
    },
    {
      "cell_type": "markdown",
      "source": [
        "  Volvemos a obtener un p_value>0.05 por lo que confirmamos que ambas notas globales son iguales independientemente de la graduación.\n",
        "  Por lo que podemos dar respuesta a la primera pregunta planteada y confirmar que la graduación no es un factor determinante en la calidad de una cerveza."
      ],
      "metadata": {
        "id": "iGQhwrtOugGa"
      }
    },
    {
      "cell_type": "markdown",
      "metadata": {
        "id": "r4aDnMdpwkXA"
      },
      "source": [
        "# 5. Análisis descriptivo y visualizaciones\n",
        "\n"
      ]
    },
    {
      "cell_type": "markdown",
      "source": [
        "  Usando el dataset inicial podemos resolver algunas de las cuestiones iniciales como: ¿Qué cervecería produce la cerveza con mayor graduación de alcohol? Para ello reducimos el set de datos para incluir solo las variables que nos interesan y eliminamos los valores duplicados para solo tener un valor por cerveza. Vemos que la cervería que produce las cervezas con mayor concentración de alcohol es Schorschbräu, con cervezas de 57.7º y 43.0º."
      ],
      "metadata": {
        "id": "3G2DF6PS-KQO"
      }
    },
    {
      "cell_type": "code",
      "source": [
        "%%R\n",
        "d = distinct(data[, c('brewery_name', 'beer_name', 'beer_abv' )])\n",
        "d %>% arrange(desc(beer_abv)) %>% head(10)"
      ],
      "metadata": {
        "id": "TDwKsjB-F9IZ",
        "colab": {
          "base_uri": "https://localhost:8080/"
        },
        "outputId": "888588e6-7fe3-49f6-a4e3-ec8fded918a2"
      },
      "execution_count": 61,
      "outputs": [
        {
          "output_type": "stream",
          "name": "stdout",
          "text": [
            "                                                 brewery_name\n",
            "1                                                Schorschbräu\n",
            "2                                                Schorschbräu\n",
            "3                                                     BrewDog\n",
            "4                                                Schorschbräu\n",
            "5                                         De Struise Brouwers\n",
            "6                                                     BrewDog\n",
            "7                                                Schorschbräu\n",
            "8  Hair of the Dog Brewing Company / Brewery and Tasting Room\n",
            "9                                                     BrewDog\n",
            "10                         Boston Beer Company (Samuel Adams)\n",
            "                       beer_name beer_abv\n",
            "1  Schorschbräu Schorschbock 57%    57.70\n",
            "2  Schorschbräu Schorschbock 43%    43.00\n",
            "3             Sink The Bismarck!    41.00\n",
            "4  Schorschbräu Schorschbock 40%    39.44\n",
            "5     Black Damnation VI - Messy    39.00\n",
            "6       Tactical Nuclear Penguin    32.00\n",
            "7  Schorschbräu Schorschbock 31%    30.86\n",
            "8                           Dave    29.00\n",
            "9                     Ghost Deer    28.00\n",
            "10          Samuel Adams Utopias    27.00\n"
          ]
        }
      ]
    },
    {
      "cell_type": "markdown",
      "source": [
        "Estas cervezas de alta graduación son raras y la mitad de las cervezas (Cuantiles 25 y 75) se encuentran en un rango de entre 5º y 7.2º"
      ],
      "metadata": {
        "id": "iAVjfhbWza5F"
      }
    },
    {
      "cell_type": "code",
      "source": [
        "%%R\n",
        "hist(d$beer_abv)\n",
        "quantile(d$beer_abv)"
      ],
      "metadata": {
        "colab": {
          "base_uri": "https://localhost:8080/",
          "height": 533
        },
        "id": "PtwX4o_czKzS",
        "outputId": "fd5754de-14a5-43bb-df17-f2a87ac244e4"
      },
      "execution_count": 62,
      "outputs": [
        {
          "output_type": "stream",
          "name": "stdout",
          "text": [
            "   0%   25%   50%   75%  100% \n",
            " 0.01  5.00  5.70  7.20 57.70 \n"
          ]
        },
        {
          "output_type": "display_data",
          "data": {
            "image/png": "[encoded data removed]"
          },
          "metadata": {}
        }
      ]
    },
    {
      "cell_type": "markdown",
      "source": [
        " \n",
        "Para saber la mejor cervecería, utilizaremos la media de las puntuaciones. Eliminaremos las cervezas con menos de 30 reviews para cumplir con el teorema del límite central. La mejor cervecería es The Alchemist con una valoración media de 4.58"
      ],
      "metadata": {
        "id": "cZ_Z8XTV0Mha"
      }
    },
    {
      "cell_type": "code",
      "source": [
        "%%R\n",
        "d = data[, c('brewery_name', 'review_overall' )]\n",
        "d = (d %>% group_by(brewery_name) %>% summarise(Mean = mean(review_overall), N = n()))\n",
        "d <- d[(d$N > 30),]\n",
        "d %>% arrange(desc(Mean)) %>% head(10)"
      ],
      "metadata": {
        "colab": {
          "base_uri": "https://localhost:8080/"
        },
        "id": "W8fi-2ji7J6J",
        "outputId": "06e9520b-e360-4ee8-e1ec-bd8125d9352b"
      },
      "execution_count": 63,
      "outputs": [
        {
          "output_type": "stream",
          "name": "stdout",
          "text": [
            "# A tibble: 10 × 3\n",
            "   brewery_name                                                Mean     N\n",
            "   <chr>                                                      <dbl> <int>\n",
            " 1 The Alchemist                                               4.58   527\n",
            " 2 Brouwerij Westvleteren (Sint-Sixtusabdij van Westvleteren)  4.54  2378\n",
            " 3 Russian River Brewing Company                               4.37 11295\n",
            " 4 Närke Kulturbryggeri AB                                     4.36   209\n",
            " 5 Badische Staatsbrauerei Rothaus AG                          4.36   126\n",
            " 6 De Cam Geuzestekerij                                        4.32   159\n",
            " 7 Live Oak Brewing Company                                    4.32   576\n",
            " 8 Hill Farmstead Brewery                                      4.30  1518\n",
            " 9 Kern River Brewing Company                                  4.30   903\n",
            "10 Brouwerij Drie Fonteinen                                    4.29  1668\n"
          ]
        }
      ]
    },
    {
      "cell_type": "markdown",
      "source": [
        "Y la distribución tiene la siguiente forma."
      ],
      "metadata": {
        "id": "kjlYyqJwFpmg"
      }
    },
    {
      "cell_type": "code",
      "source": [
        "%%R\n",
        "hist(d$Mean)\n",
        "quantile(d$Mean)"
      ],
      "metadata": {
        "colab": {
          "base_uri": "https://localhost:8080/",
          "height": 533
        },
        "id": "R10-KjCoE3z-",
        "outputId": "ead0fa72-a97f-4a60-d5fa-7c7be52e266c"
      },
      "execution_count": 64,
      "outputs": [
        {
          "output_type": "stream",
          "name": "stdout",
          "text": [
            "      0%      25%      50%      75%     100% \n",
            "1.614183 3.478780 3.724843 3.900000 4.582543 \n"
          ]
        },
        {
          "output_type": "display_data",
          "data": {
            "image/png": "[encoded data removed]"
          },
          "metadata": {}
        }
      ]
    },
    {
      "cell_type": "markdown",
      "source": [
        "Utilizando la misma estrategia, podemos evaluar cual es la mejor cerveza. Esta es la Dirty Horse con una nota media de 4.82 ptos."
      ],
      "metadata": {
        "id": "1nVJm56qFs1P"
      }
    },
    {
      "cell_type": "code",
      "source": [
        "%%R\n",
        "d = data[, c('beer_name', 'brewery_name', 'review_overall' )]\n",
        "d = (d %>% group_by(beer_name) %>% summarise(Mean = mean(review_overall), N = n()))\n",
        "d <- d[(d$N > 30),]\n",
        "d %>% arrange(desc(Mean)) %>% head(10)"
      ],
      "metadata": {
        "colab": {
          "base_uri": "https://localhost:8080/"
        },
        "id": "dzR6S647F8UN",
        "outputId": "ec348ee0-1705-4bc9-b3af-35521095fb47"
      },
      "execution_count": 65,
      "outputs": [
        {
          "output_type": "stream",
          "name": "stdout",
          "text": [
            "# A tibble: 10 × 3\n",
            "   beer_name                                       Mean     N\n",
            "   <chr>                                          <dbl> <int>\n",
            " 1 Dirty Horse                                     4.82    39\n",
            " 2 Southampton Berliner Weisse                     4.77    41\n",
            " 3 Armand'4 Oude Geuze Lente (Spring)              4.73    65\n",
            " 4 Hoppy Birthday                                  4.68    65\n",
            " 5 Armand'4 Oude Geuze Zomer (Summer)              4.64    45\n",
            " 6 Yellow Bus                                      4.64    46\n",
            " 7 Geuze Cuvée J&J (Joost En Jessie) Blauw (Blue)  4.63    71\n",
            " 8 Citra DIPA                                      4.63   252\n",
            " 9 Cantillon Blåbær Lambik                         4.63   156\n",
            "10 Veritas 004                                     4.63    83\n"
          ]
        }
      ]
    },
    {
      "cell_type": "markdown",
      "metadata": {
        "id": "7EttQtuYwtwc"
      },
      "source": [
        "## 6. Conclusiones\n",
        "\n",
        "  Finalmente podemos dar respuesta a las preguntas iniciales de la práctica.\n",
        "\n",
        "-  Hemos visto que el sabor es el atributo más influyente a la hora de obtener la nota global de la  cerveza.\n",
        "\n",
        "- Que los atributos que califican las cervezas no mantienen correlación con su graduación y por ello la nota media global de las cervezas con baja graduación es igual a las de alta graduación.\n",
        "\n",
        "- La cervería que produce las cervezas con mayor concentración de alcohol es Schorschbräu, con cervezas de 57.7º y 43.0º.\n",
        " \n",
        "- La cervecería con mejores reviews es The Alchemist con una valoración media de 4.58 ptos y la mejor cerveza por los usuarios es la Dirty Horse con una nota media de 4.82 ptos.\n",
        "\n",
        "- Si lo que realmente nos gusta es beber cerveza por su aroma y sabor los 6 estilos de cerveza que deberíamos tomar son:\n",
        "Herbed / Spiced Beer, Rauchbier,\n",
        "American Pale Ale (APA), Russian Imperial Stout, American IPA o American Porter."
      ]
    },
    {
      "cell_type": "markdown",
      "source": [
        "## 7. Exportación del código en R y de los datos producidos\n",
        "\n",
        "El código en R esta incluido en este fichero con extensión rmd y tambien se puede descargar en GitHub desde\n",
        "la siguiente dirección:\n",
        "\n",
        "https://github.com/martinsanc/data_cleaning/blob/main/PRA2.ipynb\n",
        "\n",
        "Los datos de salida se exportan mediante el siguiente comando y pueden ser descargados desde en GitHub\n",
        "desde la siguiente dirección:\n",
        "\n"
      ],
      "metadata": {
        "id": "oOsvhhLIZz3k"
      }
    },
    {
      "cell_type": "code",
      "source": [
        "%%R\n",
        "write.csv(data, file = \"/content/drive/MyDrive/Web Scraping/beer_reviews_out.csv\")"
      ],
      "metadata": {
        "id": "fmB3Qg7rZ0NG"
      },
      "execution_count": 66,
      "outputs": []
    }
  ],
  "metadata": {
    "colab": {
      "collapsed_sections": [],
      "name": "PRA2.ipynb",
      "provenance": []
    },
    "kernelspec": {
      "display_name": "Python 3",
      "name": "python3"
    },
    "language_info": {
      "name": "python"
    }
  },
  "nbformat": 4,
  "nbformat_minor": 0
}