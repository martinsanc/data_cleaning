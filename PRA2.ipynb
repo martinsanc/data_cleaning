{
  "nbformat": 4,
  "nbformat_minor": 0,
  "metadata": {
    "colab": {
      "name": "PRA2.ipynb",
      "provenance": [],
      "collapsed_sections": []
    },
    "kernelspec": {
      "name": "ir",
      "display_name": "R"
    },
    "language_info": {
      "name": "R"
    }
  },
  "cells": [
    {
      "cell_type": "markdown",
      "source": [
        "# Práctica 2: Limpieza y análisis de datos\n",
        "#### Tipología y ciclo de vida de los datos\n",
        "### Marina Peña, Martín Sanchez"
      ],
      "metadata": {
        "id": "YtqXi9lkfoOV"
      }
    },
    {
      "cell_type": "markdown",
      "source": [
        "## Descripción del dataset"
      ],
      "metadata": {
        "id": "7GyvJjBYvGJ6"
      }
    },
    {
      "cell_type": "markdown",
      "source": [
        "## Integración y selección de los datos"
      ],
      "metadata": {
        "id": "vIx99WjJvlYe"
      }
    },
    {
      "cell_type": "markdown",
      "source": [
        "## Limpieza de los datos"
      ],
      "metadata": {
        "id": "TN3G6nRlvqcK"
      }
    },
    {
      "cell_type": "markdown",
      "source": [
        "### Ceros y elementos vacíos"
      ],
      "metadata": {
        "id": "onbqEnb6wcwM"
      }
    },
    {
      "cell_type": "markdown",
      "source": [
        "### Valores extremos"
      ],
      "metadata": {
        "id": "q9HWUHx0wea8"
      }
    },
    {
      "cell_type": "markdown",
      "source": [
        "## Análisis de los datos"
      ],
      "metadata": {
        "id": "FJRDJmiRwAb7"
      }
    },
    {
      "cell_type": "markdown",
      "source": [
        "### Selección de grupos de datos"
      ],
      "metadata": {
        "id": "ArKbGxZqwhEk"
      }
    },
    {
      "cell_type": "markdown",
      "source": [
        "### Comprobación de normalidad y homogeneidad de la varianza"
      ],
      "metadata": {
        "id": "ZSvFFfHQwil-"
      }
    },
    {
      "cell_type": "markdown",
      "source": [
        "### Pruebas estadísticas"
      ],
      "metadata": {
        "id": "r4aDnMdpwkXA"
      }
    },
    {
      "cell_type": "markdown",
      "source": [
        "## Conclusiones"
      ],
      "metadata": {
        "id": "7EttQtuYwtwc"
      }
    }
  ]
}